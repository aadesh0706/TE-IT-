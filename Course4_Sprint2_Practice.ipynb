{
 "cells": [
  {
   "cell_type": "markdown",
   "id": "521376e3",
   "metadata": {},
   "source": [
    "# COURSE4_SPRINT2_PRACTICE"
   ]
  },
  {
   "cell_type": "markdown",
   "id": "007dcc45",
   "metadata": {},
   "source": [
    "# Task - 1\n",
    "The university wishes to know the total number of\n",
    "students whose GRE score is greater than 320. Help the\n",
    "university perform this task."
   ]
  },
  {
   "cell_type": "code",
   "execution_count": 2,
   "id": "d4606e2c",
   "metadata": {},
   "outputs": [],
   "source": [
    "import pandas as pd"
   ]
  },
  {
   "cell_type": "code",
   "execution_count": 3,
   "id": "677e9d70",
   "metadata": {},
   "outputs": [],
   "source": [
    "import numpy as np"
   ]
  },
  {
   "cell_type": "code",
   "execution_count": 4,
   "id": "798ed2fe",
   "metadata": {},
   "outputs": [],
   "source": [
    "from numpy import genfromtxt"
   ]
  },
  {
   "cell_type": "code",
   "execution_count": 5,
   "id": "ebdc9f34",
   "metadata": {},
   "outputs": [
    {
     "data": {
      "text/plain": [
       "array([[  1.  , 337.  , 118.  , ...,   9.65,   1.  ,   0.92],\n",
       "       [  2.  , 324.  , 107.  , ...,   8.87,   1.  ,   0.76],\n",
       "       [  3.  , 316.  , 104.  , ...,   8.  ,   1.  ,   0.72],\n",
       "       ...,\n",
       "       [398.  , 330.  , 116.  , ...,   9.45,   1.  ,   0.91],\n",
       "       [399.  , 312.  , 103.  , ...,   8.78,   0.  ,   0.67],\n",
       "       [400.  , 333.  , 117.  , ...,   9.66,   1.  ,   0.95]])"
      ]
     },
     "execution_count": 5,
     "metadata": {},
     "output_type": "execute_result"
    }
   ],
   "source": [
    "std = genfromtxt('s2_practice.csv',delimiter=',',skip_header=1)\n",
    "std"
   ]
  },
  {
   "cell_type": "code",
   "execution_count": 6,
   "id": "37a43aba",
   "metadata": {},
   "outputs": [],
   "source": [
    "gr=std[0:,1]"
   ]
  },
  {
   "cell_type": "code",
   "execution_count": 15,
   "id": "4438299a",
   "metadata": {},
   "outputs": [
    {
     "data": {
      "text/plain": [
       "1467"
      ]
     },
     "execution_count": 15,
     "metadata": {},
     "output_type": "execute_result"
    }
   ],
   "source": [
    "index1=np.where(gr > 320)\n",
    "std[index1].size"
   ]
  },
  {
   "cell_type": "markdown",
   "id": "3173277f",
   "metadata": {},
   "source": [
    "# Task - 2\n",
    "The university wishes to know the admission possibility\n",
    "of those students with TOEFL scores greater than 110.\n",
    "Help the university accomplish this task."
   ]
  },
  {
   "cell_type": "code",
   "execution_count": 20,
   "id": "e248eed9",
   "metadata": {},
   "outputs": [],
   "source": [
    "tof = std[0:,2]\n",
    "t1=std[0:,8]"
   ]
  },
  {
   "cell_type": "code",
   "execution_count": 19,
   "id": "19e80f69",
   "metadata": {},
   "outputs": [
    {
     "data": {
      "text/plain": [
       "(array([  0,   5,  11,  12,  21,  22,  23,  24,  25,  32,  33,  34,  43,\n",
       "         44,  46,  47,  49,  52,  53,  64,  65,  66,  69,  70,  71,  72,\n",
       "         75,  76,  81,  83,  84,  97,  98,  99, 104, 106, 107, 108, 120,\n",
       "        121, 126, 127, 128, 129, 130, 133, 134, 138, 141, 142, 143, 144,\n",
       "        145, 147, 148, 150, 151, 152, 164, 171, 173, 174, 175, 176, 185,\n",
       "        187, 188, 189, 190, 192, 193, 202, 203, 212, 213, 214, 215, 216,\n",
       "        222, 228, 229, 234, 235, 236, 237, 242, 243, 249, 253, 254, 259,\n",
       "        263, 268, 276, 283, 284, 285, 286, 287, 297, 298, 299, 307, 318,\n",
       "        319, 325, 328, 330, 335, 337, 361, 362, 365, 372, 384, 385, 392,\n",
       "        394, 397, 399], dtype=int64),)"
      ]
     },
     "execution_count": 19,
     "metadata": {},
     "output_type": "execute_result"
    }
   ],
   "source": [
    "index2 = np.where(tof>110)\n",
    "index2"
   ]
  },
  {
   "cell_type": "code",
   "execution_count": 23,
   "id": "ba3fa43e",
   "metadata": {},
   "outputs": [
    {
     "data": {
      "text/plain": [
       "array([0.92, 0.9 , 0.84, 0.78, 0.7 , 0.94, 0.95, 0.97, 0.94, 0.91, 0.9 ,\n",
       "       0.94, 0.87, 0.91, 0.86, 0.89, 0.78, 0.78, 0.72, 0.52, 0.55, 0.61,\n",
       "       0.78, 0.94, 0.96, 0.93, 0.72, 0.74, 0.96, 0.92, 0.94, 0.86, 0.9 ,\n",
       "       0.79, 0.74, 0.87, 0.91, 0.93, 0.94, 0.94, 0.85, 0.78, 0.84, 0.92,\n",
       "       0.96, 0.79, 0.89, 0.8 , 0.9 , 0.92, 0.97, 0.8 , 0.81, 0.83, 0.96,\n",
       "       0.93, 0.94, 0.86, 0.81, 0.89, 0.89, 0.87, 0.85, 0.9 , 0.89, 0.93,\n",
       "       0.93, 0.88, 0.9 , 0.86, 0.94, 0.97, 0.97, 0.95, 0.96, 0.94, 0.93,\n",
       "       0.91, 0.76, 0.71, 0.82, 0.91, 0.88, 0.85, 0.86, 0.7 , 0.76, 0.77,\n",
       "       0.93, 0.85, 0.9 , 0.7 , 0.83, 0.89, 0.8 , 0.94, 0.93, 0.92, 0.89,\n",
       "       0.86, 0.9 , 0.71, 0.8 , 0.79, 0.8 , 0.81, 0.8 , 0.8 , 0.83, 0.94,\n",
       "       0.93, 0.91, 0.86, 0.95, 0.96, 0.96, 0.84, 0.89, 0.91, 0.95])"
      ]
     },
     "execution_count": 23,
     "metadata": {},
     "output_type": "execute_result"
    }
   ],
   "source": [
    "t1[index2]"
   ]
  },
  {
   "cell_type": "markdown",
   "id": "e32073f2",
   "metadata": {},
   "source": [
    "# Task - 3\n",
    "The university decides to offer 100% scholarship to the\n",
    "top 11 highest GRE scorers and the top 8 highest\n",
    "TOEFL scorers. Help the university find the list of these\n",
    "students along with their serial numbers.\n"
   ]
  },
  {
   "cell_type": "code",
   "execution_count": 117,
   "id": "9215fc87",
   "metadata": {},
   "outputs": [
    {
     "data": {
      "text/plain": [
       "array([[320., 390.],\n",
       "       [314., 391.],\n",
       "       [318., 392.],\n",
       "       [326., 393.],\n",
       "       [317., 394.],\n",
       "       [329., 395.],\n",
       "       [324., 396.],\n",
       "       [325., 397.],\n",
       "       [330., 398.],\n",
       "       [312., 399.],\n",
       "       [333., 400.]])"
      ]
     },
     "execution_count": 117,
     "metadata": {},
     "output_type": "execute_result"
    }
   ],
   "source": [
    "j=std[0:,0:2]\n",
    "k = np.sort(j)\n",
    "k[389:400]"
   ]
  },
  {
   "cell_type": "code",
   "execution_count": null,
   "id": "fc34b836",
   "metadata": {},
   "outputs": [],
   "source": []
  },
  {
   "cell_type": "code",
   "execution_count": 132,
   "id": "b7d53f7c",
   "metadata": {},
   "outputs": [
    {
     "data": {
      "text/plain": [
       "(array([0, 1, 2, 3, 4, 5, 6, 7], dtype=int64),)"
      ]
     },
     "execution_count": 132,
     "metadata": {},
     "output_type": "execute_result"
    }
   ],
   "source": [
    "s2 = std[0:,0:3]\n",
    "s4 = np.delete(s2,1,axis=1)\n",
    "kl = np.sort(s4[0:,1])\n",
    "jj = kl[392:401]\n",
    "indx = np.where(jj)\n"
   ]
  },
  {
   "cell_type": "markdown",
   "id": "abe4365f",
   "metadata": {},
   "source": [
    "# Task - 4\n",
    "To offer fellowship, the university wishes to know the\n",
    "serial numbers and TOEFL scores of the students with:\n",
    "● GRE scores between 300 and 305,\n",
    "● SOP scores of 3.5, and\n",
    "● Research experience."
   ]
  },
  {
   "cell_type": "code",
   "execution_count": 133,
   "id": "0c56b5ef",
   "metadata": {},
   "outputs": [
    {
     "data": {
      "text/plain": [
       "(array([  8,  19,  38,  62,  77,  93,  94,  95, 109, 112, 124, 131, 166,\n",
       "        209, 233, 279, 292, 313, 346, 348, 352, 357, 369, 375, 378, 386],\n",
       "       dtype=int64),)"
      ]
     },
     "execution_count": 133,
     "metadata": {},
     "output_type": "execute_result"
    }
   ],
   "source": [
    "gre_ind = np.where((std[0:,1]>300) & (std[0:,1]<305))\n",
    "gre_ind"
   ]
  },
  {
   "cell_type": "code",
   "execution_count": 159,
   "id": "f5f21bd8",
   "metadata": {},
   "outputs": [
    {
     "data": {
      "text/plain": [
       "array([[[  9., 302., 102.],\n",
       "        [ 20., 303., 102.],\n",
       "        [ 39., 304., 105.],\n",
       "        [ 63., 304., 105.],\n",
       "        [ 78., 301.,  99.],\n",
       "        [ 94., 301.,  97.],\n",
       "        [ 95., 303.,  99.],\n",
       "        [ 96., 304., 100.],\n",
       "        [110., 304., 103.],\n",
       "        [113., 301., 107.],\n",
       "        [125., 301., 106.],\n",
       "        [132., 303., 105.],\n",
       "        [167., 302., 102.],\n",
       "        [210., 301., 104.],\n",
       "        [234., 304., 100.],\n",
       "        [280., 304., 102.],\n",
       "        [293., 302.,  99.],\n",
       "        [314., 301., 100.],\n",
       "        [347., 304.,  97.],\n",
       "        [349., 302.,  99.],\n",
       "        [353., 303., 100.],\n",
       "        [358., 301., 104.],\n",
       "        [370., 301.,  98.],\n",
       "        [376., 304., 101.],\n",
       "        [379., 303.,  98.],\n",
       "        [387., 302., 101.]]])"
      ]
     },
     "execution_count": 159,
     "metadata": {},
     "output_type": "execute_result"
    }
   ],
   "source": [
    "std[gre_ind,0:3]"
   ]
  },
  {
   "cell_type": "code",
   "execution_count": 157,
   "id": "3b617db1",
   "metadata": {},
   "outputs": [
    {
     "data": {
      "text/plain": [
       "(array([  3,   9,  10,  14,  15,  19,  40,  48,  65,  67,  68,  87, 100,\n",
       "        104, 107, 112, 114, 123, 128, 132, 135, 139, 149, 163, 166, 177,\n",
       "        180, 186, 194, 197, 201, 204, 206, 207, 209, 219, 221, 226, 227,\n",
       "        231, 242, 243, 248, 249, 261, 275, 293, 296, 303, 305, 308, 309,\n",
       "        313, 319, 325, 330, 332, 339, 341, 351, 353, 356, 357, 364, 366,\n",
       "        371, 380, 389, 395, 398], dtype=int64),)"
      ]
     },
     "execution_count": 157,
     "metadata": {},
     "output_type": "execute_result"
    }
   ],
   "source": [
    "sop_ind = np.where(std[0:,4]==3.5)\n",
    "sop_ind"
   ]
  },
  {
   "cell_type": "code",
   "execution_count": 163,
   "id": "15aa8c66",
   "metadata": {},
   "outputs": [
    {
     "data": {
      "text/plain": [
       "array([[[  4., 322., 110.],\n",
       "        [ 10., 323., 108.],\n",
       "        [ 11., 325., 106.],\n",
       "        [ 15., 311., 104.],\n",
       "        [ 16., 314., 105.],\n",
       "        [ 20., 303., 102.],\n",
       "        [ 41., 308., 110.],\n",
       "        [ 49., 321., 110.],\n",
       "        [ 66., 325., 112.],\n",
       "        [ 68., 316., 107.],\n",
       "        [ 69., 318., 109.],\n",
       "        [ 88., 317., 107.],\n",
       "        [101., 322., 107.],\n",
       "        [105., 326., 112.],\n",
       "        [108., 338., 117.],\n",
       "        [113., 301., 107.],\n",
       "        [115., 311., 105.],\n",
       "        [124., 308., 108.],\n",
       "        [129., 326., 112.],\n",
       "        [133., 309., 105.],\n",
       "        [136., 314., 109.],\n",
       "        [140., 318., 109.],\n",
       "        [150., 311., 106.],\n",
       "        [164., 317., 105.],\n",
       "        [167., 302., 102.],\n",
       "        [178., 319., 110.],\n",
       "        [181., 300., 104.],\n",
       "        [187., 317., 107.],\n",
       "        [195., 316., 109.],\n",
       "        [198., 310., 106.],\n",
       "        [202., 315., 110.],\n",
       "        [205., 298., 105.],\n",
       "        [207., 315.,  99.],\n",
       "        [208., 310., 102.],\n",
       "        [210., 301., 104.],\n",
       "        [220., 312., 104.],\n",
       "        [222., 316., 110.],\n",
       "        [227., 306., 110.],\n",
       "        [228., 312., 110.],\n",
       "        [232., 319., 106.],\n",
       "        [243., 324., 115.],\n",
       "        [244., 325., 114.],\n",
       "        [249., 324., 110.],\n",
       "        [250., 321., 111.],\n",
       "        [262., 312., 104.],\n",
       "        [276., 322., 110.],\n",
       "        [294., 312.,  98.],\n",
       "        [297., 310., 107.],\n",
       "        [304., 323., 107.],\n",
       "        [306., 321., 109.],\n",
       "        [309., 312., 108.],\n",
       "        [310., 308., 110.],\n",
       "        [314., 301., 100.],\n",
       "        [320., 327., 113.],\n",
       "        [326., 326., 116.],\n",
       "        [331., 327., 113.],\n",
       "        [333., 308., 106.],\n",
       "        [340., 324., 107.],\n",
       "        [342., 326., 110.],\n",
       "        [352., 325., 110.],\n",
       "        [354., 300., 102.],\n",
       "        [357., 327., 109.],\n",
       "        [358., 301., 104.],\n",
       "        [365., 313., 102.],\n",
       "        [367., 320., 104.],\n",
       "        [372., 324., 110.],\n",
       "        [381., 322., 104.],\n",
       "        [390., 320., 108.],\n",
       "        [396., 324., 110.],\n",
       "        [399., 312., 103.]]])"
      ]
     },
     "execution_count": 163,
     "metadata": {},
     "output_type": "execute_result"
    }
   ],
   "source": [
    "std[sop_ind,0:3]"
   ]
  },
  {
   "cell_type": "markdown",
   "id": "d7fffd89",
   "metadata": {},
   "source": [
    "# Task - 5\n",
    "The university decides to offer the scholarship amounts \n",
    "between $5,000 and $10,000 to all the students \n",
    "randomly. The university also wishes to add this data to \n",
    "the existing record of students. Help the company \n",
    "accomplish this task. Further, determine the number of \n",
    "students who receive a scholarship amount greater than \n",
    "$9,000"
   ]
  },
  {
   "cell_type": "code",
   "execution_count": 1,
   "id": "d64e99e3",
   "metadata": {},
   "outputs": [],
   "source": [
    "import numpy as np"
   ]
  },
  {
   "cell_type": "code",
   "execution_count": null,
   "id": "1b1ec283",
   "metadata": {},
   "outputs": [],
   "source": [
    "import pandas as pd"
   ]
  },
  {
   "cell_type": "code",
   "execution_count": 12,
   "id": "7e6f640e",
   "metadata": {},
   "outputs": [],
   "source": [
    "std.shape\n",
    "sch1 = np.random.randint(5000,10000,size=(400,1))\n",
    "std1 = np.concatenate((std,sch1),axis=1)"
   ]
  },
  {
   "cell_type": "code",
   "execution_count": 32,
   "id": "2730b002",
   "metadata": {},
   "outputs": [
    {
     "data": {
      "text/plain": [
       "(91, 10)"
      ]
     },
     "execution_count": 32,
     "metadata": {},
     "output_type": "execute_result"
    }
   ],
   "source": [
    "indsch = np.where(std1[0:,9]>9000)\n",
    "std1[indsch].shape"
   ]
  },
  {
   "cell_type": "markdown",
   "id": "844c9e81",
   "metadata": {},
   "source": [
    "# Task - 6\n",
    "The university wishes to know the SOP scores and the \n",
    "LOR scores of all students who have received more than \n",
    "$9,000 in scholarships. Help the university accomplish \n",
    "this task"
   ]
  },
  {
   "cell_type": "code",
   "execution_count": 34,
   "id": "3d1bba15",
   "metadata": {},
   "outputs": [
    {
     "data": {
      "text/plain": [
       "array([[[4. , 4.5],\n",
       "        [3. , 3.5],\n",
       "        [2. , 3. ],\n",
       "        [3. , 4. ],\n",
       "        [4. , 4.5],\n",
       "        [5. , 4.5],\n",
       "        [4. , 4. ],\n",
       "        [5. , 5. ],\n",
       "        [2.5, 2. ],\n",
       "        [3. , 4. ],\n",
       "        [2.5, 4.5],\n",
       "        [3. , 3.5],\n",
       "        [3. , 3. ],\n",
       "        [2. , 3. ],\n",
       "        [3. , 3.5],\n",
       "        [3.5, 4. ],\n",
       "        [4.5, 4. ],\n",
       "        [1.5, 2. ],\n",
       "        [5. , 5. ],\n",
       "        [4. , 4.5],\n",
       "        [4.5, 4.5],\n",
       "        [4.5, 3.5],\n",
       "        [1.5, 2.5],\n",
       "        [3. , 3. ],\n",
       "        [5. , 4.5],\n",
       "        [4. , 3.5],\n",
       "        [4.5, 4. ],\n",
       "        [3.5, 3. ],\n",
       "        [4. , 3.5],\n",
       "        [3. , 3.5],\n",
       "        [4.5, 4.5],\n",
       "        [3.5, 3.5],\n",
       "        [2. , 3. ],\n",
       "        [3.5, 3.5],\n",
       "        [4. , 4. ],\n",
       "        [4. , 3. ],\n",
       "        [4. , 3.5],\n",
       "        [2. , 2.5],\n",
       "        [3. , 4. ],\n",
       "        [1.5, 2. ],\n",
       "        [4.5, 4. ],\n",
       "        [2. , 4. ],\n",
       "        [4. , 4.5],\n",
       "        [4. , 5. ],\n",
       "        [2.5, 2.5],\n",
       "        [4. , 4.5],\n",
       "        [3.5, 3. ],\n",
       "        [3.5, 4. ],\n",
       "        [5. , 4. ],\n",
       "        [4.5, 4. ],\n",
       "        [2.5, 2.5],\n",
       "        [4. , 4.5],\n",
       "        [3.5, 2.5],\n",
       "        [2.5, 3.5],\n",
       "        [5. , 4. ],\n",
       "        [4.5, 4. ],\n",
       "        [2. , 3.5],\n",
       "        [2.5, 3. ],\n",
       "        [4. , 4.5],\n",
       "        [5. , 5. ],\n",
       "        [2.5, 2.5],\n",
       "        [4.5, 5. ],\n",
       "        [1.5, 2. ],\n",
       "        [1. , 1.5],\n",
       "        [5. , 4.5],\n",
       "        [2.5, 3. ],\n",
       "        [4. , 3.5],\n",
       "        [2.5, 3. ],\n",
       "        [5. , 4.5],\n",
       "        [3. , 3.5],\n",
       "        [4.5, 4. ],\n",
       "        [3. , 4. ],\n",
       "        [3. , 2.5],\n",
       "        [4. , 4. ],\n",
       "        [1.5, 2. ],\n",
       "        [1. , 1. ],\n",
       "        [2. , 2. ],\n",
       "        [3.5, 4. ],\n",
       "        [3.5, 3.5],\n",
       "        [2.5, 2. ],\n",
       "        [2. , 1.5],\n",
       "        [4.5, 3. ],\n",
       "        [2. , 2. ],\n",
       "        [3.5, 3. ],\n",
       "        [2. , 2.5],\n",
       "        [2.5, 3. ],\n",
       "        [5. , 5. ],\n",
       "        [2. , 3.5],\n",
       "        [3.5, 3.5],\n",
       "        [3. , 3.5],\n",
       "        [5. , 4.5]]])"
      ]
     },
     "execution_count": 34,
     "metadata": {},
     "output_type": "execute_result"
    }
   ],
   "source": [
    "std1[indsch,4:6]"
   ]
  },
  {
   "cell_type": "markdown",
   "id": "bb75282d",
   "metadata": {},
   "source": [
    "# Task - 7\n",
    "The university decides to offer $1,000 scholarships to all \n",
    "students with GRE scores above 315, TOEFL scores \n",
    "above 115, and research experience.\n",
    "Display the serial number of all the students who are \n",
    "eligible for this. How many such students are there? \n",
    "Further, update the scholarship amount for these \n",
    "students"
   ]
  },
  {
   "cell_type": "code",
   "execution_count": 36,
   "id": "1fb68d77",
   "metadata": {},
   "outputs": [],
   "source": [
    "offerind = np.where((std1[0:,1]>315)&(std1[0:,2]>115))"
   ]
  },
  {
   "cell_type": "code",
   "execution_count": 39,
   "id": "61b52e01",
   "metadata": {},
   "outputs": [
    {
     "data": {
      "text/plain": [
       "(44, 10)"
      ]
     },
     "execution_count": 39,
     "metadata": {},
     "output_type": "execute_result"
    }
   ],
   "source": [
    "std1[offerind].shape"
   ]
  },
  {
   "cell_type": "code",
   "execution_count": 40,
   "id": "5f124dda",
   "metadata": {},
   "outputs": [
    {
     "data": {
      "text/plain": [
       "array([[5178., 7955., 9279., 6447., 6838., 7218., 6029., 8471., 6636.,\n",
       "        5363., 9607., 8073., 9764., 7989., 5043., 6603., 9432., 5730.,\n",
       "        8696., 7776., 8256., 5455., 5010., 9063., 6908., 7081., 7885.,\n",
       "        8687., 7445., 8904., 5131., 6473., 6683., 8100., 7757., 5179.,\n",
       "        8534., 6057., 6214., 7215., 8696., 9241., 9389., 6042.]])"
      ]
     },
     "execution_count": 40,
     "metadata": {},
     "output_type": "execute_result"
    }
   ],
   "source": [
    "std1[offerind,9]"
   ]
  },
  {
   "cell_type": "code",
   "execution_count": 41,
   "id": "c066e794",
   "metadata": {},
   "outputs": [],
   "source": [
    "std1[offerind,9]=std1[offerind,9]+1000"
   ]
  },
  {
   "cell_type": "code",
   "execution_count": 42,
   "id": "02033ac6",
   "metadata": {},
   "outputs": [
    {
     "data": {
      "text/plain": [
       "array([[ 6178.,  8955., 10279.,  7447.,  7838.,  8218.,  7029.,  9471.,\n",
       "         7636.,  6363., 10607.,  9073., 10764.,  8989.,  6043.,  7603.,\n",
       "        10432.,  6730.,  9696.,  8776.,  9256.,  6455.,  6010., 10063.,\n",
       "         7908.,  8081.,  8885.,  9687.,  8445.,  9904.,  6131.,  7473.,\n",
       "         7683.,  9100.,  8757.,  6179.,  9534.,  7057.,  7214.,  8215.,\n",
       "         9696., 10241., 10389.,  7042.]])"
      ]
     },
     "execution_count": 42,
     "metadata": {},
     "output_type": "execute_result"
    }
   ],
   "source": [
    "std1[offerind,9]"
   ]
  },
  {
   "cell_type": "code",
   "execution_count": null,
   "id": "93a69d70",
   "metadata": {},
   "outputs": [],
   "source": []
  }
 ],
 "metadata": {
  "kernelspec": {
   "display_name": "Python 3 (ipykernel)",
   "language": "python",
   "name": "python3"
  },
  "language_info": {
   "codemirror_mode": {
    "name": "ipython",
    "version": 3
   },
   "file_extension": ".py",
   "mimetype": "text/x-python",
   "name": "python",
   "nbconvert_exporter": "python",
   "pygments_lexer": "ipython3",
   "version": "3.9.7"
  }
 },
 "nbformat": 4,
 "nbformat_minor": 5
}
